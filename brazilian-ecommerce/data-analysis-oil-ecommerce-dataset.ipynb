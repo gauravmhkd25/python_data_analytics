{
 "cells": [
  {
   "cell_type": "markdown",
   "metadata": {
    "_uuid": "f8c387a7db9e43dfa46c0665deea3c5512ecabe6"
   },
   "source": [
    "# Understanding the Olist Ecommerce Dataset\n",
    "The dataset contains informations about orders, products purchased, customer and customer reviews from that orders. Lets take a look at the data to have an initial understanding of what it is and how it works."
   ]
  },
  {
   "cell_type": "code",
   "execution_count": 1,
   "metadata": {
    "_cell_guid": "b1076dfc-b9ad-4769-8c92-a6c4dae69d19",
    "_uuid": "8f2839f25d086af736a60e9eeb907d3b93b6e0e5"
   },
   "outputs": [
    {
     "data": {
      "text/html": [
       "<div>\n",
       "<style scoped>\n",
       "    .dataframe tbody tr th:only-of-type {\n",
       "        vertical-align: middle;\n",
       "    }\n",
       "\n",
       "    .dataframe tbody tr th {\n",
       "        vertical-align: top;\n",
       "    }\n",
       "\n",
       "    .dataframe thead th {\n",
       "        text-align: right;\n",
       "    }\n",
       "</style>\n",
       "<table border=\"1\" class=\"dataframe\">\n",
       "  <thead>\n",
       "    <tr style=\"text-align: right;\">\n",
       "      <th></th>\n",
       "      <th>product_id</th>\n",
       "      <th>product_category_name</th>\n",
       "      <th>product_name_lenght</th>\n",
       "      <th>product_description_lenght</th>\n",
       "      <th>product_photos_qty</th>\n",
       "      <th>product_weight_g</th>\n",
       "      <th>product_length_cm</th>\n",
       "      <th>product_height_cm</th>\n",
       "      <th>product_width_cm</th>\n",
       "    </tr>\n",
       "  </thead>\n",
       "  <tbody>\n",
       "    <tr>\n",
       "      <th>0</th>\n",
       "      <td>1e9e8ef04dbcff4541ed26657ea517e5</td>\n",
       "      <td>perfumaria</td>\n",
       "      <td>40.0</td>\n",
       "      <td>287.0</td>\n",
       "      <td>1.0</td>\n",
       "      <td>225.0</td>\n",
       "      <td>16.0</td>\n",
       "      <td>10.0</td>\n",
       "      <td>14.0</td>\n",
       "    </tr>\n",
       "    <tr>\n",
       "      <th>1</th>\n",
       "      <td>3aa071139cb16b67ca9e5dea641aaa2f</td>\n",
       "      <td>artes</td>\n",
       "      <td>44.0</td>\n",
       "      <td>276.0</td>\n",
       "      <td>1.0</td>\n",
       "      <td>1000.0</td>\n",
       "      <td>30.0</td>\n",
       "      <td>18.0</td>\n",
       "      <td>20.0</td>\n",
       "    </tr>\n",
       "    <tr>\n",
       "      <th>2</th>\n",
       "      <td>96bd76ec8810374ed1b65e291975717f</td>\n",
       "      <td>esporte_lazer</td>\n",
       "      <td>46.0</td>\n",
       "      <td>250.0</td>\n",
       "      <td>1.0</td>\n",
       "      <td>154.0</td>\n",
       "      <td>18.0</td>\n",
       "      <td>9.0</td>\n",
       "      <td>15.0</td>\n",
       "    </tr>\n",
       "    <tr>\n",
       "      <th>3</th>\n",
       "      <td>cef67bcfe19066a932b7673e239eb23d</td>\n",
       "      <td>bebes</td>\n",
       "      <td>27.0</td>\n",
       "      <td>261.0</td>\n",
       "      <td>1.0</td>\n",
       "      <td>371.0</td>\n",
       "      <td>26.0</td>\n",
       "      <td>4.0</td>\n",
       "      <td>26.0</td>\n",
       "    </tr>\n",
       "    <tr>\n",
       "      <th>4</th>\n",
       "      <td>9dc1a7de274444849c219cff195d0b71</td>\n",
       "      <td>utilidades_domesticas</td>\n",
       "      <td>37.0</td>\n",
       "      <td>402.0</td>\n",
       "      <td>4.0</td>\n",
       "      <td>625.0</td>\n",
       "      <td>20.0</td>\n",
       "      <td>17.0</td>\n",
       "      <td>13.0</td>\n",
       "    </tr>\n",
       "  </tbody>\n",
       "</table>\n",
       "</div>"
      ],
      "text/plain": [
       "                         product_id  product_category_name  \\\n",
       "0  1e9e8ef04dbcff4541ed26657ea517e5             perfumaria   \n",
       "1  3aa071139cb16b67ca9e5dea641aaa2f                  artes   \n",
       "2  96bd76ec8810374ed1b65e291975717f          esporte_lazer   \n",
       "3  cef67bcfe19066a932b7673e239eb23d                  bebes   \n",
       "4  9dc1a7de274444849c219cff195d0b71  utilidades_domesticas   \n",
       "\n",
       "   product_name_lenght  product_description_lenght  product_photos_qty  \\\n",
       "0                 40.0                       287.0                 1.0   \n",
       "1                 44.0                       276.0                 1.0   \n",
       "2                 46.0                       250.0                 1.0   \n",
       "3                 27.0                       261.0                 1.0   \n",
       "4                 37.0                       402.0                 4.0   \n",
       "\n",
       "   product_weight_g  product_length_cm  product_height_cm  product_width_cm  \n",
       "0             225.0               16.0               10.0              14.0  \n",
       "1            1000.0               30.0               18.0              20.0  \n",
       "2             154.0               18.0                9.0              15.0  \n",
       "3             371.0               26.0                4.0              26.0  \n",
       "4             625.0               20.0               17.0              13.0  "
      ]
     },
     "execution_count": 1,
     "metadata": {},
     "output_type": "execute_result"
    }
   ],
   "source": [
    "import numpy as np # linear algebra\n",
    "import pandas as pd # data processing, CSV file I/O (e.g. pd.read_csv) \n",
    "import seaborn as sns; sns.set(rc={'figure.figsize':(16,9)})\n",
    "import matplotlib.pyplot as plt\n",
    "\n",
    "df = pd.read_csv('/Users/KaviAnu/Documents/python_data_analytics/brazilian-ecommerce/olist_products_dataset.csv')\n",
    "df.head()"
   ]
  },
  {
   "cell_type": "markdown",
   "metadata": {
    "_cell_guid": "79c7e3d0-c299-4dcb-8224-4455121ee9b0",
    "_uuid": "d629ff2d2480ee46fbb7e2d37f6b5fab8052498a",
    "collapsed": true
   },
   "source": [
    "## Initial Data Cleaning\n",
    "\n",
    "The columns named  ```votes_```  contains information about how many votes each subcategory has received from each analyts that classified the dataset. The results are summarized in the ```most_voted_``` columns. For the purpose of this initial study I'm going to discard ```votes_```."
   ]
  },
  {
   "cell_type": "code",
   "execution_count": null,
   "metadata": {
    "_uuid": "0983f399e3ebe51f9b79e0b645f94495fd7df58f"
   },
   "outputs": [],
   "source": [
    "# select all votes columns\n",
    "votes_columns = [s for s in df.columns if \"votes_\" in s]\n",
    "\n",
    "# drop them\n",
    "df.drop(votes_columns, axis=1, inplace=True)\n",
    "\n",
    "# Lets also drop the first two columns\n",
    "df.drop(['Unnamed: 0', 'id'], axis=1, inplace=True)"
   ]
  },
  {
   "cell_type": "code",
   "execution_count": null,
   "metadata": {
    "_uuid": "7a4f75c4573e4c0f31d81bfe318ea5a264e0ffce"
   },
   "outputs": [],
   "source": [
    "# Lets see the info of our dataset\n",
    "df.info()"
   ]
  },
  {
   "cell_type": "code",
   "execution_count": null,
   "metadata": {
    "_uuid": "c853e8071ac77fcf14c6b7a9f7b99e15cf1cb0b1"
   },
   "outputs": [],
   "source": [
    "# Looks like we may also drop the review_comment_title column, as all values are null\n",
    "df.drop(['review_comment_title'], axis=1, inplace=True)"
   ]
  },
  {
   "cell_type": "code",
   "execution_count": null,
   "metadata": {
    "_uuid": "ccd9d5026db5a48bd775a55d12515f2a771e7977"
   },
   "outputs": [],
   "source": [
    "# We also need to convert datetime features to the correct format\n",
    "df.order_purchase_timestamp = pd.to_datetime(df.order_purchase_timestamp)\n",
    "df.order_aproved_at = pd.to_datetime(df.order_aproved_at)\n",
    "df.order_estimated_delivery_date = pd.to_datetime(df.order_estimated_delivery_date)\n",
    "df.order_delivered_customer_date = pd.to_datetime(df.order_delivered_customer_date)\n",
    "df.review_creation_date = pd.to_datetime(df.review_creation_date)\n",
    "df.review_answer_timestamp = pd.to_datetime(df.review_answer_timestamp)\n",
    "\n",
    "# Lets see if it looks ok now\n",
    "df.info()"
   ]
  },
  {
   "cell_type": "markdown",
   "metadata": {
    "_uuid": "c803659794680534f319efcf3d8a435bd4d0b93d"
   },
   "source": [
    "## Seeing Features Through Time\n",
    "Now we may want to see how some of those features are related with the purchase date. "
   ]
  },
  {
   "cell_type": "code",
   "execution_count": null,
   "metadata": {
    "_uuid": "1cd8c236867ea05f5b18074cc0a52f0b962108d3"
   },
   "outputs": [],
   "source": [
    "# creating a purchase day feature\n",
    "df['order_purchase_date'] = df.order_purchase_timestamp.dt.date\n",
    "\n",
    "# creating an aggregation\n",
    "sales_per_purchase_date = df.groupby('order_purchase_date', as_index=False).order_products_value.sum()\n",
    "ax = sns.lineplot(x=\"order_purchase_date\", y=\"order_products_value\", data=sales_per_purchase_date)\n",
    "ax.set_title('Sales per day')"
   ]
  },
  {
   "cell_type": "code",
   "execution_count": null,
   "metadata": {
    "_uuid": "91ed0360305988f42e3776892867b0e34ddaef03"
   },
   "outputs": [],
   "source": [
    "# creating a purchase day feature\n",
    "df['order_purchase_week'] = df.order_purchase_timestamp.dt.to_period('W').astype(str)\n",
    "\n",
    "# creating an aggregation\n",
    "sales_per_purchase_month = df.groupby('order_purchase_week', as_index=False).order_products_value.sum()\n",
    "ax = sns.lineplot(x=\"order_purchase_week\", y=\"order_products_value\", data=sales_per_purchase_month)\n",
    "ax.set_title('Sales per week')"
   ]
  },
  {
   "cell_type": "code",
   "execution_count": null,
   "metadata": {
    "_uuid": "237d41342e4d2886d5fc3835b2d36ae9c52765af"
   },
   "outputs": [],
   "source": [
    "# creating an aggregation\n",
    "avg_score_per_date = df.groupby('order_purchase_week', as_index=False).review_score.mean()\n",
    "ax = sns.lineplot(x=\"order_purchase_week\", y=\"review_score\", data=avg_score_per_date)\n",
    "ax.set_title('Average score per week')"
   ]
  },
  {
   "cell_type": "markdown",
   "metadata": {
    "_uuid": "898a022d2fcbd836b0908761f69eb057afcf48a3"
   },
   "source": [
    "## Which product category has lower scores? "
   ]
  },
  {
   "cell_type": "code",
   "execution_count": null,
   "metadata": {
    "_uuid": "e28ef30104f8665dd0b9503f48b83d2c6947c431"
   },
   "outputs": [],
   "source": [
    "# creating an aggregation\n",
    "avg_score_per_category = df.groupby('product_category_name', as_index=False).agg({'review_score': ['count', 'mean']})\n",
    "avg_score_per_category.columns = ['product_category_name', 'count', 'mean']\n",
    "\n",
    "# filtering to show only categories with more than 50 reviews\n",
    "avg_score_per_category = avg_score_per_category[avg_score_per_category['count'] > 50]\n",
    "avg_score_per_category = avg_score_per_category.sort_values(by='mean', ascending=False)\n",
    "avg_score_per_category"
   ]
  },
  {
   "cell_type": "code",
   "execution_count": null,
   "metadata": {
    "_uuid": "5fff12a8d491f0c9ee47665d2801b427e7d690dd"
   },
   "outputs": [],
   "source": [
    "ax = sns.barplot(x=\"mean\", y=\"product_category_name\", data=avg_score_per_category)\n",
    "ax.set_title('Categories Review Score')"
   ]
  },
  {
   "cell_type": "markdown",
   "metadata": {
    "_uuid": "53aab3275832f5f7ddbe0a43cd0546b1fcd3ecfd"
   },
   "source": [
    "## How do classes relate to the categories and review scores?\n",
    "Lets see how classes are distributed for the best and worse category that we just found earlier."
   ]
  },
  {
   "cell_type": "code",
   "execution_count": null,
   "metadata": {
    "_uuid": "4dbce9b9fdbc2317b99c4d3d7d7a3643e7b1f8b8"
   },
   "outputs": [],
   "source": [
    "eletronicos = df[df.product_category_name == 'eletronicos']['most_voted_class'].value_counts().reset_index()\n",
    "eletronicos.columns = ['class', 'qty']\n",
    "eletronicos['percent_qty'] = eletronicos.qty / eletronicos.qty.sum() \n",
    "ax = sns.barplot(x=\"percent_qty\", y=\"class\", data=eletronicos)\n",
    "ax.set_title('Eletronicos Reviews Classes')"
   ]
  },
  {
   "cell_type": "markdown",
   "metadata": {
    "_uuid": "b32bada9fe2359a571018280471c3ed2b5c47ece"
   },
   "source": [
    "At the eletronicos category, most customers (~85%) are satisfied with their purchase. Around 10% complained about delivery issues and 5% about quality issues."
   ]
  },
  {
   "cell_type": "code",
   "execution_count": null,
   "metadata": {
    "_uuid": "cf67020ad4c3de607dfac0e1440f95fc6fde243d"
   },
   "outputs": [],
   "source": [
    "informatica_acessorios = df[df.product_category_name == 'informatica_acessorios']['most_voted_class'].value_counts().reset_index()\n",
    "informatica_acessorios.columns = ['class', 'qty']\n",
    "informatica_acessorios['percent_qty'] = informatica_acessorios.qty / informatica_acessorios.qty.sum() \n",
    "ax = sns.barplot(x=\"percent_qty\", y=\"class\", data=informatica_acessorios)\n",
    "ax.set_title('Informatica Acessorios Reviews Classes')"
   ]
  },
  {
   "cell_type": "markdown",
   "metadata": {
    "_uuid": "100b99e0bce7b7dae83086f178126d5f583128d7"
   },
   "source": [
    "At the Informatica e Acessorios category, only ~45% of customers are satisfied. Other 35% complained about delivery issues and ~22% of customers found out that the product had quality issues."
   ]
  },
  {
   "cell_type": "markdown",
   "metadata": {
    "_uuid": "d1009a28d9976f76aa39a4ae9f9a056659524712"
   },
   "source": [
    "# Now it's your turn!\n",
    "This was intended to be just an introduction to the dataset. Did you enjoy it? Have any questions about the data? We are available to help you!"
   ]
  },
  {
   "cell_type": "code",
   "execution_count": null,
   "metadata": {
    "_uuid": "62264acd975cda9d7f99f9ce4fb1a7cc3ad5b988"
   },
   "outputs": [],
   "source": []
  }
 ],
 "metadata": {
  "kernelspec": {
   "display_name": "Python 3",
   "language": "python",
   "name": "python3"
  },
  "language_info": {
   "codemirror_mode": {
    "name": "ipython",
    "version": 3
   },
   "file_extension": ".py",
   "mimetype": "text/x-python",
   "name": "python",
   "nbconvert_exporter": "python",
   "pygments_lexer": "ipython3",
   "version": "3.5.1"
  }
 },
 "nbformat": 4,
 "nbformat_minor": 1
}

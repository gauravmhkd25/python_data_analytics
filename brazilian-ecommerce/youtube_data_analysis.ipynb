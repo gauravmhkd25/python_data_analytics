{
 "cells": [
  {
   "cell_type": "code",
   "execution_count": null,
   "metadata": {},
   "outputs": [],
   "source": [
    "# The data contains Socialblade Rankings of \n",
    "# top 5000 YouTube channels. The data can be used for finding useful insights \n",
    "# and the revealing possible correlations between the features of the channels \n",
    "# and their respective rankings.\n",
    "\n",
    "\n",
    "# Rank    - denotes the Socialblade rankings of the YouTube channel.\n",
    "# Grade    -denotes the grade of the YouTube channel as conferred by Socialblade.\n",
    "# Channel name -  The name of the YouTube channel.\n",
    "# Video Uploads  - Total number of videos uploaded by the YouTube channel.\n",
    "# Subscribers   - Total number of subscribers of the YouTube channel.\n",
    "# Video views   - Total number of views of all the video content by the YouTube channel.\n",
    "\n"
   ]
  }
 ],
 "metadata": {
  "kernelspec": {
   "display_name": "Python 3",
   "language": "python",
   "name": "python3"
  },
  "language_info": {
   "codemirror_mode": {
    "name": "ipython",
    "version": 3
   },
   "file_extension": ".py",
   "mimetype": "text/x-python",
   "name": "python",
   "nbconvert_exporter": "python",
   "pygments_lexer": "ipython3",
   "version": "3.5.1"
  }
 },
 "nbformat": 4,
 "nbformat_minor": 2
}
